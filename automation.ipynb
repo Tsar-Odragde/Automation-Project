{
 "cells": [
  {
   "cell_type": "code",
   "execution_count": 9,
   "metadata": {},
   "outputs": [
    {
     "name": "stdout",
     "output_type": "stream",
     "text": [
      "Moved ./Data/to_insert\\SuperStoreUS-2015.xlsx from ./Data/to_insert/ to ./Data/inserted/\n"
     ]
    }
   ],
   "source": [
    "import os\n",
    "import pandas as pd\n",
    "import glob\n",
    "import shutil\n",
    "from sqlalchemy import create_engine\n",
    "\n",
    "# -- Constants -- #\n",
    "DBMS = 'postgresql'\n",
    "DRIVER = 'psycopg2'\n",
    "USER = 'postgres'\n",
    "PASSWORD = 'postgres'\n",
    "HOST = 'localhost'\n",
    "PORT = '5432'\n",
    "DB_NAME = 'excel_db'\n",
    "\n",
    "column_mapping = {\n",
    "    \"Row ID\":\"row_id\",\n",
    "    \"Order Priority\":\"order_prio\",\n",
    "    \"Discount\":\"discount\",\n",
    "    \"Unit Price\":\"unit_price\",\n",
    "    \"Shipping Cost\":\"ship_cost\",\n",
    "    \"Customer ID\":\"customer_id\",\n",
    "    \"Customer Name\":\"customer_name\",\n",
    "    \"Ship Mode\":\"ship_mode\",\n",
    "    \"Customer Segment\":\"customer_segment\",\n",
    "    \"Product Category\":\"product_cat\",\n",
    "    \"Product Sub-Category\":\"product_subcat\",\n",
    "    \"Product Container\":\"product_cont\",\n",
    "    \"Product Name\":\"product_name\",\n",
    "    \"Product Base Margin\":\"product_base_margin\",\n",
    "    \"Country\":\"country\",\n",
    "    \"Region\":\"region\",\n",
    "    \"State or Province\":\"state\",\n",
    "    \"City\":\"city\",\n",
    "    \"Postal Code\":\"postal_code\",\n",
    "    \"Order Date\":\"order_date\",\n",
    "    \"Ship Date\":\"ship_date\",\n",
    "    \"Profit\":\"profit\",\n",
    "    \"Quantity ordered new\":\"qty_ordered\",\n",
    "    \"Sales\":\"sales\",\n",
    "    \"Order ID\":\"order_id\"\n",
    "}\t\t\t\t\t\t\t\t\t\t\t\t\t\t\t\n",
    "\n",
    "\n",
    "# Config the connection to the DB\n",
    "engine = create_engine(f'{DBMS}+{DRIVER}://{USER}:{PASSWORD}@{HOST}:{PORT}/{DB_NAME}')\n",
    "connection = engine.connect()\n",
    "\n",
    "# Specify the directory path where you want to check for the file\n",
    "directory_path = './Data/to_insert/'\n",
    "\n",
    "# Define the wildcard pattern to match the file names\n",
    "file_pattern = 'SuperStoreUS*.xlsx'\n",
    "\n",
    "# Use glob to find files that match the pattern\n",
    "matching_files = glob.glob(os.path.join(directory_path, file_pattern))\n",
    "\n",
    "if matching_files:\n",
    "    # If at least one matching file is found, read it with Pandas\n",
    "    for file_path in matching_files:\n",
    "        df = pd.read_excel(file_path)\n",
    "        df_mapped = df.rename(columns=column_mapping)\n",
    "        df_mapped.to_sql('temp', engine, if_exists='append', index=False, method=None)\n",
    "        engine.dispose()\n",
    "        # Specify the source and destination directories and file name\n",
    "        destination_directory = './Data/inserted/'\n",
    "        source_file = file_path\n",
    "        # Combine the destination directory and file name to create the destination file path\n",
    "        destination_file = os.path.join(destination_directory, file_path[17:])\n",
    "\n",
    "        # move the file\n",
    "        shutil.move(source_file, destination_file)\n",
    "\n",
    "        print(f'Moved {file_path} from {directory_path} to {destination_directory}')"
   ]
  },
  {
   "cell_type": "code",
   "execution_count": null,
   "metadata": {},
   "outputs": [],
   "source": []
  }
 ],
 "metadata": {
  "kernelspec": {
   "display_name": "Python 3",
   "language": "python",
   "name": "python3"
  },
  "language_info": {
   "codemirror_mode": {
    "name": "ipython",
    "version": 3
   },
   "file_extension": ".py",
   "mimetype": "text/x-python",
   "name": "python",
   "nbconvert_exporter": "python",
   "pygments_lexer": "ipython3",
   "version": "3.10.11"
  }
 },
 "nbformat": 4,
 "nbformat_minor": 2
}
